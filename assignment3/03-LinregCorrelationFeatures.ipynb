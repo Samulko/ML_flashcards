{
 "cells": [
  {
   "cell_type": "markdown",
   "id": "e957005b",
   "metadata": {},
   "source": [
    "# Assignment 3 - Linear Regression"
   ]
  },
  {
   "cell_type": "markdown",
   "id": "639be9cf",
   "metadata": {},
   "source": [
    "Please add the name, first name, immatriculation number and study program below. Each member of the group has to be added:\n",
    "- *Name: , First Name: , matr. number: , study program:.*\n",
    "- *Name:, First Name:, matr. number:, study program:.*\n",
    "- *Name:, First Name:, matr. number:, study program:.*"
   ]
  },
  {
   "cell_type": "markdown",
   "id": "294897f6",
   "metadata": {},
   "source": [
    "In this notebook, you will implement linear regression models with various feature maps on a toy dataset and on the Boston Housing dataset, which contains information about housing conditions in suburbs of Boston.\n",
    "\n",
    "You will:\n",
    "- Implement linear regression model.\n",
    "- Play with different feature maps on a toy dataset.\n",
    "- Be challenged to find hyperparameter and features for the boston housing dataset to reach an minimal $\\operatorname{RMSE}$. *(Hint: $\\operatorname{RMSE}<4.0$ is a good value)*"
   ]
  },
  {
   "cell_type": "markdown",
   "id": "fb68d956",
   "metadata": {},
   "source": [
    "# Task 3 - Linear Regression with feature maps\n",
    "You are given a noisy two dimensional dataset, implement different feature maps and calculate the optimal parameters using a linear regression model."
   ]
  },
  {
   "cell_type": "code",
   "execution_count": 274,
   "id": "49f8c840",
   "metadata": {},
   "outputs": [],
   "source": [
    "import numpy as np\n",
    "from matplotlib import pyplot as plt\n",
    "from abc import ABC, abstractmethod"
   ]
  },
  {
   "cell_type": "markdown",
   "id": "1d675963",
   "metadata": {},
   "source": [
    "$X$ refers to the input data and $y$ are the labels, note that this is a regression problem."
   ]
  },
  {
   "cell_type": "code",
   "execution_count": 275,
   "id": "22723ca9",
   "metadata": {},
   "outputs": [],
   "source": [
    "X = np.expand_dims(np.linspace(-5, 5, 64), axis=-1)\n",
    "y = np.sin(X) + np.expand_dims(np.random.randn(X.shape[0]), axis=-1) * 0.5"
   ]
  },
  {
   "cell_type": "code",
   "execution_count": 276,
   "id": "675db60e",
   "metadata": {},
   "outputs": [
    {
     "data": {
      "image/png": "[encoded data removed]",
      "text/plain": [
       "<Figure size 1200x300 with 1 Axes>"
      ]
     },
     "metadata": {},
     "output_type": "display_data"
    }
   ],
   "source": [
    "plt.figure(figsize=(12,3))\n",
    "plt.ylim(-2, 2)\n",
    "plt.scatter(X[:, 0], y);"
   ]
  },
  {
   "cell_type": "markdown",
   "id": "d9630f86",
   "metadata": {},
   "source": [
    "Below you find an abstract `Base` class to implement different feature maps. A feature map $\\Phi$ takes as input a data matrix $X$ and outputs the feature matrix $\\Phi(X)$. This is implemented by the `__call__(self, X)` function."
   ]
  },
  {
   "cell_type": "code",
   "execution_count": 277,
   "id": "39c45aba",
   "metadata": {},
   "outputs": [],
   "source": [
    "class FeatureMap(ABC):\n",
    "    \n",
    "    @abstractmethod\n",
    "    def __call__(self, X):\n",
    "        pass"
   ]
  },
  {
   "cell_type": "markdown",
   "id": "2647f48c",
   "metadata": {},
   "source": [
    "As an example see the identity features implemented as feature map, which yields a vanilla linear regression model."
   ]
  },
  {
   "cell_type": "code",
   "execution_count": 278,
   "id": "59c84bfe",
   "metadata": {},
   "outputs": [],
   "source": [
    "class IdentityMap(FeatureMap):\n",
    "    def __call__(self, X):\n",
    "        return X"
   ]
  },
  {
   "cell_type": "markdown",
   "id": "3ca7e7b0",
   "metadata": {},
   "source": [
    "- **Task:** Implement the `fit(self, X, y)` and `predict(self, X)` function of the linear regression class below."
   ]
  },
  {
   "cell_type": "code",
   "execution_count": 279,
   "id": "978f661b",
   "metadata": {},
   "outputs": [],
   "source": [
    "from typing import List\n",
    "\n",
    "class LinearRegression:\n",
    "    \n",
    "    def __init__(self, features:List): # Your are allowed to extend the init call\n",
    "        # Your solution goes here\n",
    "        pass\n",
    "    \n",
    "    def apply_feature_maps(self, X):\n",
    "        return np.concatenate(\n",
    "            [f(X) for f in self.features], axis=-1\n",
    "        )\n",
    "    \n",
    "    def fit(self, X, y):\n",
    "        # Your solution goes here\n",
    "        raise NotImplementedError()\n",
    "       \n",
    "    def predict(self, X):\n",
    "        # Your solution goes here\n",
    "        raise NotImplementedError()"
   ]
  },
  {
   "cell_type": "markdown",
   "id": "83ef5bbb",
   "metadata": {},
   "source": [
    "- **Task:** Test the identity feature on the given dataset. Visualize your results using the `plot_predictor()` function. The `plot_phi()` function can be used to visualize the feature function."
   ]
  },
  {
   "cell_type": "code",
   "execution_count": 280,
   "id": "88b41999",
   "metadata": {},
   "outputs": [],
   "source": [
    "def plot_predictor(reg, x_min=-5, x_max=5, N = 1024, train_data = None):\n",
    "    xx = np.linspace(x_min, x_max, N)\n",
    "    plt.figure(figsize=(12,3))\n",
    "    plt.ylim(-2, 2)\n",
    "    if train_data is not None:\n",
    "        plt.scatter(train_data[0][:, 0], train_data[1], label=\"training data\")\n",
    "    plt.plot(xx, reg.predict(np.expand_dims(xx, axis=-1)), color='orange', label='$\\hat{\\mathbf{y}}$')\n",
    "    plt.xlabel('x')\n",
    "    plt.ylabel('y')\n",
    "    plt.legend()\n",
    "    "
   ]
  },
  {
   "cell_type": "code",
   "execution_count": 281,
   "id": "51455245",
   "metadata": {},
   "outputs": [],
   "source": [
    "def plot_phi(phi, x_min=-5, x_max=5, N = 1024):\n",
    "    plt.figure(figsize=(12,3))\n",
    "    xx = np.linspace(x_min, x_max, N)\n",
    "    plt.plot(xx, phi(np.expand_dims(xx, axis=-1)), label=f'{phi.__class__.__name__}')\n",
    "    plt.xlabel('x')\n",
    "    plt.ylabel('$\\Phi(x)$')\n",
    "    plt.legend()"
   ]
  },
  {
   "cell_type": "code",
   "execution_count": 282,
   "id": "fcd2ed49",
   "metadata": {},
   "outputs": [
    {
     "ename": "NotImplementedError",
     "evalue": "",
     "output_type": "error",
     "traceback": [
      "\u001b[0;31m---------------------------------------------------------------------------\u001b[0m",
      "\u001b[0;31mNotImplementedError\u001b[0m                       Traceback (most recent call last)",
      "Cell \u001b[0;32mIn[282], line 2\u001b[0m\n\u001b[1;32m      1\u001b[0m reg \u001b[38;5;241m=\u001b[39m LinearRegression(features\u001b[38;5;241m=\u001b[39m[IdentityMap()])\n\u001b[0;32m----> 2\u001b[0m \u001b[43mreg\u001b[49m\u001b[38;5;241;43m.\u001b[39;49m\u001b[43mfit\u001b[49m\u001b[43m(\u001b[49m\u001b[43mX\u001b[49m\u001b[43m,\u001b[49m\u001b[43my\u001b[49m\u001b[43m)\u001b[49m\n\u001b[1;32m      3\u001b[0m plot_predictor(reg, train_data\u001b[38;5;241m=\u001b[39m(X,y))\n\u001b[1;32m      4\u001b[0m plot_phi(reg\u001b[38;5;241m.\u001b[39mfeatures[\u001b[38;5;241m0\u001b[39m])\n",
      "Cell \u001b[0;32mIn[279], line 16\u001b[0m, in \u001b[0;36mLinearRegression.fit\u001b[0;34m(self, X, y)\u001b[0m\n\u001b[1;32m     14\u001b[0m \u001b[38;5;28;01mdef\u001b[39;00m \u001b[38;5;21mfit\u001b[39m(\u001b[38;5;28mself\u001b[39m, X, y):\n\u001b[1;32m     15\u001b[0m     \u001b[38;5;66;03m# Your solution goes here\u001b[39;00m\n\u001b[0;32m---> 16\u001b[0m     \u001b[38;5;28;01mraise\u001b[39;00m \u001b[38;5;167;01mNotImplementedError\u001b[39;00m()\n",
      "\u001b[0;31mNotImplementedError\u001b[0m: "
     ]
    }
   ],
   "source": [
    "reg = LinearRegression(features=[IdentityMap()])\n",
    "reg.fit(X,y)\n",
    "plot_predictor(reg, train_data=(X,y))\n",
    "plot_phi(reg.features[0])\n"
   ]
  },
  {
   "cell_type": "markdown",
   "id": "fa075d58",
   "metadata": {},
   "source": [
    "- **Task:** Implement polynomial features."
   ]
  },
  {
   "cell_type": "code",
   "execution_count": 283,
   "id": "bb0381e8",
   "metadata": {},
   "outputs": [],
   "source": [
    "class PolynomialFeatureMap(FeatureMap):\n",
    "    \n",
    "    def __init__(self, degree):\n",
    "        # your solution goes here\n",
    "        pass\n",
    "        \n",
    "    def __call__(self, x):\n",
    "        # your solution goes here\n",
    "        raise NotImplementedError()"
   ]
  },
  {
   "cell_type": "code",
   "execution_count": 284,
   "id": "429f15e4",
   "metadata": {},
   "outputs": [
    {
     "ename": "NotImplementedError",
     "evalue": "",
     "output_type": "error",
     "traceback": [
      "\u001b[0;31m---------------------------------------------------------------------------\u001b[0m",
      "\u001b[0;31mNotImplementedError\u001b[0m                       Traceback (most recent call last)",
      "Cell \u001b[0;32mIn[284], line 10\u001b[0m\n\u001b[1;32m      1\u001b[0m reg \u001b[38;5;241m=\u001b[39m LinearRegression(features\u001b[38;5;241m=\u001b[39m[\n\u001b[1;32m      2\u001b[0m     PolynomialFeatureMap(\u001b[38;5;241m0\u001b[39m),\n\u001b[1;32m      3\u001b[0m     PolynomialFeatureMap(\u001b[38;5;241m1\u001b[39m),\n\u001b[0;32m   (...)\u001b[0m\n\u001b[1;32m      8\u001b[0m     PolynomialFeatureMap(\u001b[38;5;241m6\u001b[39m),\n\u001b[1;32m      9\u001b[0m ])\n\u001b[0;32m---> 10\u001b[0m \u001b[43mreg\u001b[49m\u001b[38;5;241;43m.\u001b[39;49m\u001b[43mfit\u001b[49m\u001b[43m(\u001b[49m\u001b[43mX\u001b[49m\u001b[43m,\u001b[49m\u001b[43my\u001b[49m\u001b[43m)\u001b[49m\n\u001b[1;32m     11\u001b[0m plot_predictor(reg, train_data\u001b[38;5;241m=\u001b[39m(X,y))\n\u001b[1;32m     12\u001b[0m \u001b[38;5;28;01mfor\u001b[39;00m phi \u001b[38;5;129;01min\u001b[39;00m reg\u001b[38;5;241m.\u001b[39mfeatures:\n",
      "Cell \u001b[0;32mIn[279], line 16\u001b[0m, in \u001b[0;36mLinearRegression.fit\u001b[0;34m(self, X, y)\u001b[0m\n\u001b[1;32m     14\u001b[0m \u001b[38;5;28;01mdef\u001b[39;00m \u001b[38;5;21mfit\u001b[39m(\u001b[38;5;28mself\u001b[39m, X, y):\n\u001b[1;32m     15\u001b[0m     \u001b[38;5;66;03m# Your solution goes here\u001b[39;00m\n\u001b[0;32m---> 16\u001b[0m     \u001b[38;5;28;01mraise\u001b[39;00m \u001b[38;5;167;01mNotImplementedError\u001b[39;00m()\n",
      "\u001b[0;31mNotImplementedError\u001b[0m: "
     ]
    }
   ],
   "source": [
    "reg = LinearRegression(features=[\n",
    "    PolynomialFeatureMap(0),\n",
    "    PolynomialFeatureMap(1),\n",
    "    PolynomialFeatureMap(2),\n",
    "    PolynomialFeatureMap(3),\n",
    "    PolynomialFeatureMap(4),\n",
    "    PolynomialFeatureMap(5),\n",
    "    PolynomialFeatureMap(6),\n",
    "])\n",
    "reg.fit(X,y)\n",
    "plot_predictor(reg, train_data=(X,y))\n",
    "for phi in reg.features:\n",
    "    plot_phi(phi)"
   ]
  },
  {
   "cell_type": "markdown",
   "id": "933bf907",
   "metadata": {},
   "source": [
    "- **Task:** Implement piecewise constant features."
   ]
  },
  {
   "cell_type": "code",
   "execution_count": 285,
   "id": "4767ae71",
   "metadata": {},
   "outputs": [],
   "source": [
    "class PiecewiseConstantFeatureMap(FeatureMap):\n",
    "    \n",
    "    def __init__(self, left, right):\n",
    "        # your solution goes here\n",
    "        pass\n",
    "        \n",
    "    def __call__(self, x):\n",
    "        # your solution goes here\n",
    "        raise NotImplementedError()"
   ]
  },
  {
   "cell_type": "code",
   "execution_count": 286,
   "id": "71238091",
   "metadata": {},
   "outputs": [
    {
     "ename": "NotImplementedError",
     "evalue": "",
     "output_type": "error",
     "traceback": [
      "\u001b[0;31m---------------------------------------------------------------------------\u001b[0m",
      "\u001b[0;31mNotImplementedError\u001b[0m                       Traceback (most recent call last)",
      "Cell \u001b[0;32mIn[286], line 8\u001b[0m\n\u001b[1;32m      1\u001b[0m reg \u001b[38;5;241m=\u001b[39m LinearRegression(features\u001b[38;5;241m=\u001b[39m[\n\u001b[1;32m      2\u001b[0m     PiecewiseConstantFeatureMap(\u001b[38;5;241m-\u001b[39m\u001b[38;5;241m5\u001b[39m, \u001b[38;5;241m-\u001b[39m\u001b[38;5;241m3\u001b[39m),\n\u001b[1;32m      3\u001b[0m     PiecewiseConstantFeatureMap(\u001b[38;5;241m-\u001b[39m\u001b[38;5;241m3\u001b[39m, \u001b[38;5;241m-\u001b[39m\u001b[38;5;241m1\u001b[39m),\n\u001b[0;32m   (...)\u001b[0m\n\u001b[1;32m      6\u001b[0m     PiecewiseConstantFeatureMap(\u001b[38;5;241m3\u001b[39m, \u001b[38;5;241m5\u001b[39m),\n\u001b[1;32m      7\u001b[0m ])\n\u001b[0;32m----> 8\u001b[0m \u001b[43mreg\u001b[49m\u001b[38;5;241;43m.\u001b[39;49m\u001b[43mfit\u001b[49m\u001b[43m(\u001b[49m\u001b[43mX\u001b[49m\u001b[43m,\u001b[49m\u001b[43my\u001b[49m\u001b[43m)\u001b[49m\n\u001b[1;32m      9\u001b[0m plot_predictor(reg, train_data\u001b[38;5;241m=\u001b[39m(X,y))\n\u001b[1;32m     10\u001b[0m \u001b[38;5;28;01mfor\u001b[39;00m phi \u001b[38;5;129;01min\u001b[39;00m reg\u001b[38;5;241m.\u001b[39mfeatures:\n",
      "Cell \u001b[0;32mIn[279], line 16\u001b[0m, in \u001b[0;36mLinearRegression.fit\u001b[0;34m(self, X, y)\u001b[0m\n\u001b[1;32m     14\u001b[0m \u001b[38;5;28;01mdef\u001b[39;00m \u001b[38;5;21mfit\u001b[39m(\u001b[38;5;28mself\u001b[39m, X, y):\n\u001b[1;32m     15\u001b[0m     \u001b[38;5;66;03m# Your solution goes here\u001b[39;00m\n\u001b[0;32m---> 16\u001b[0m     \u001b[38;5;28;01mraise\u001b[39;00m \u001b[38;5;167;01mNotImplementedError\u001b[39;00m()\n",
      "\u001b[0;31mNotImplementedError\u001b[0m: "
     ]
    }
   ],
   "source": [
    "reg = LinearRegression(features=[\n",
    "    PiecewiseConstantFeatureMap(-5, -3),\n",
    "    PiecewiseConstantFeatureMap(-3, -1),\n",
    "    PiecewiseConstantFeatureMap(-1, 1),\n",
    "    PiecewiseConstantFeatureMap(1, 3),\n",
    "    PiecewiseConstantFeatureMap(3, 5),\n",
    "])\n",
    "reg.fit(X,y)\n",
    "plot_predictor(reg, train_data=(X,y))\n",
    "for phi in reg.features:\n",
    "    plot_phi(phi)\n"
   ]
  },
  {
   "cell_type": "markdown",
   "id": "bdc18bf9",
   "metadata": {},
   "source": [
    "- **Task:** Implement piecewise linear features."
   ]
  },
  {
   "cell_type": "code",
   "execution_count": null,
   "id": "5900e6d4",
   "metadata": {},
   "outputs": [],
   "source": [
    "class PiecewiseLinearFeatureMap(FeatureMap):\n",
    "    \n",
    "    def __init__(self, position):\n",
    "        # your solution goes here\n",
    "        pass\n",
    "    \n",
    "    def __call__(self, x):\n",
    "        # your solution goes here\n",
    "        raise NotImplementedError()"
   ]
  },
  {
   "cell_type": "code",
   "execution_count": 288,
   "id": "f8250502",
   "metadata": {},
   "outputs": [
    {
     "ename": "NotImplementedError",
     "evalue": "",
     "output_type": "error",
     "traceback": [
      "\u001b[0;31m---------------------------------------------------------------------------\u001b[0m",
      "\u001b[0;31mNotImplementedError\u001b[0m                       Traceback (most recent call last)",
      "Cell \u001b[0;32mIn[288], line 8\u001b[0m\n\u001b[1;32m      1\u001b[0m reg \u001b[38;5;241m=\u001b[39m LinearRegression(features\u001b[38;5;241m=\u001b[39m[\n\u001b[1;32m      2\u001b[0m     PiecewiseLinearFeatureMap(\u001b[38;5;241m-\u001b[39m\u001b[38;5;241m5\u001b[39m),\n\u001b[1;32m      3\u001b[0m     PiecewiseLinearFeatureMap(\u001b[38;5;241m-\u001b[39m\u001b[38;5;241m3\u001b[39m),\n\u001b[0;32m   (...)\u001b[0m\n\u001b[1;32m      6\u001b[0m     PiecewiseLinearFeatureMap(\u001b[38;5;241m3\u001b[39m),\n\u001b[1;32m      7\u001b[0m ])\n\u001b[0;32m----> 8\u001b[0m \u001b[43mreg\u001b[49m\u001b[38;5;241;43m.\u001b[39;49m\u001b[43mfit\u001b[49m\u001b[43m(\u001b[49m\u001b[43mX\u001b[49m\u001b[43m,\u001b[49m\u001b[43my\u001b[49m\u001b[43m)\u001b[49m\n\u001b[1;32m      9\u001b[0m plot_predictor(reg, train_data\u001b[38;5;241m=\u001b[39m(X,y))\n\u001b[1;32m     10\u001b[0m \u001b[38;5;28;01mfor\u001b[39;00m phi \u001b[38;5;129;01min\u001b[39;00m reg\u001b[38;5;241m.\u001b[39mfeatures:\n",
      "Cell \u001b[0;32mIn[279], line 16\u001b[0m, in \u001b[0;36mLinearRegression.fit\u001b[0;34m(self, X, y)\u001b[0m\n\u001b[1;32m     14\u001b[0m \u001b[38;5;28;01mdef\u001b[39;00m \u001b[38;5;21mfit\u001b[39m(\u001b[38;5;28mself\u001b[39m, X, y):\n\u001b[1;32m     15\u001b[0m     \u001b[38;5;66;03m# Your solution goes here\u001b[39;00m\n\u001b[0;32m---> 16\u001b[0m     \u001b[38;5;28;01mraise\u001b[39;00m \u001b[38;5;167;01mNotImplementedError\u001b[39;00m()\n",
      "\u001b[0;31mNotImplementedError\u001b[0m: "
     ]
    }
   ],
   "source": [
    "reg = LinearRegression(features=[\n",
    "    PiecewiseLinearFeatureMap(-5),\n",
    "    PiecewiseLinearFeatureMap(-3),\n",
    "    PiecewiseLinearFeatureMap(-1),\n",
    "    PiecewiseLinearFeatureMap(1),\n",
    "    PiecewiseLinearFeatureMap(3),\n",
    "])\n",
    "reg.fit(X,y)\n",
    "plot_predictor(reg, train_data=(X,y))\n",
    "for phi in reg.features:\n",
    "    plot_phi(phi)"
   ]
  },
  {
   "cell_type": "markdown",
   "id": "4dc40d23",
   "metadata": {},
   "source": [
    "- **Task:** Implement RBF features."
   ]
  },
  {
   "cell_type": "code",
   "execution_count": 291,
   "id": "a560cd1f",
   "metadata": {},
   "outputs": [],
   "source": [
    "class RadialBasisFunction(FeatureMap):\n",
    "    \n",
    "    def __init__(self, position, scale):\n",
    "        # your solution goes here\n",
    "        pass\n",
    "        \n",
    "    def __call__(self, x):\n",
    "        # your solution goes here\n",
    "        raise NotImplementedError()"
   ]
  },
  {
   "cell_type": "code",
   "execution_count": 292,
   "id": "4e67f875",
   "metadata": {},
   "outputs": [
    {
     "ename": "NotImplementedError",
     "evalue": "",
     "output_type": "error",
     "traceback": [
      "\u001b[0;31m---------------------------------------------------------------------------\u001b[0m",
      "\u001b[0;31mNotImplementedError\u001b[0m                       Traceback (most recent call last)",
      "Cell \u001b[0;32mIn[292], line 10\u001b[0m\n\u001b[1;32m      1\u001b[0m reg \u001b[38;5;241m=\u001b[39m LinearRegression(\n\u001b[1;32m      2\u001b[0m     features\u001b[38;5;241m=\u001b[39m[\n\u001b[1;32m      3\u001b[0m         RadialBasisFunction(\u001b[38;5;241m-\u001b[39m\u001b[38;5;241m5\u001b[39m, \u001b[38;5;241m1\u001b[39m),\n\u001b[0;32m   (...)\u001b[0m\n\u001b[1;32m      8\u001b[0m     ]\n\u001b[1;32m      9\u001b[0m )\n\u001b[0;32m---> 10\u001b[0m \u001b[43mreg\u001b[49m\u001b[38;5;241;43m.\u001b[39;49m\u001b[43mfit\u001b[49m\u001b[43m(\u001b[49m\u001b[43mX\u001b[49m\u001b[43m,\u001b[49m\u001b[43my\u001b[49m\u001b[43m)\u001b[49m\n\u001b[1;32m     11\u001b[0m plot_predictor(reg, train_data\u001b[38;5;241m=\u001b[39m(X,y))\n\u001b[1;32m     12\u001b[0m \u001b[38;5;28;01mfor\u001b[39;00m phi \u001b[38;5;129;01min\u001b[39;00m reg\u001b[38;5;241m.\u001b[39mfeatures:\n",
      "Cell \u001b[0;32mIn[279], line 16\u001b[0m, in \u001b[0;36mLinearRegression.fit\u001b[0;34m(self, X, y)\u001b[0m\n\u001b[1;32m     14\u001b[0m \u001b[38;5;28;01mdef\u001b[39;00m \u001b[38;5;21mfit\u001b[39m(\u001b[38;5;28mself\u001b[39m, X, y):\n\u001b[1;32m     15\u001b[0m     \u001b[38;5;66;03m# Your solution goes here\u001b[39;00m\n\u001b[0;32m---> 16\u001b[0m     \u001b[38;5;28;01mraise\u001b[39;00m \u001b[38;5;167;01mNotImplementedError\u001b[39;00m()\n",
      "\u001b[0;31mNotImplementedError\u001b[0m: "
     ]
    }
   ],
   "source": [
    "reg = LinearRegression(\n",
    "    features=[\n",
    "        RadialBasisFunction(-5, 1),\n",
    "        RadialBasisFunction(-3, 1),\n",
    "        RadialBasisFunction(-1, 1),\n",
    "        RadialBasisFunction(1, 1),\n",
    "        RadialBasisFunction(3, 1),\n",
    "    ]\n",
    ")\n",
    "reg.fit(X,y)\n",
    "plot_predictor(reg, train_data=(X,y))\n",
    "for phi in reg.features:\n",
    "    plot_phi(phi)"
   ]
  },
  {
   "cell_type": "markdown",
   "id": "61d78e3c",
   "metadata": {},
   "source": [
    "- **Task**: With the standard scale of the Gaussian the solution already looks quite good. Try to find a good scaling and a bad scaling factor."
   ]
  },
  {
   "cell_type": "code",
   "execution_count": 265,
   "id": "23585e2a",
   "metadata": {},
   "outputs": [
    {
     "ename": "NotImplementedError",
     "evalue": "",
     "output_type": "error",
     "traceback": [
      "\u001b[0;31m---------------------------------------------------------------------------\u001b[0m",
      "\u001b[0;31mNotImplementedError\u001b[0m                       Traceback (most recent call last)",
      "Cell \u001b[0;32mIn[265], line 11\u001b[0m\n\u001b[1;32m      1\u001b[0m scale \u001b[38;5;241m=\u001b[39m \u001b[38;5;241m1\u001b[39m \u001b[38;5;66;03m# play with the scale\u001b[39;00m\n\u001b[1;32m      2\u001b[0m reg \u001b[38;5;241m=\u001b[39m LinearRegression(\n\u001b[1;32m      3\u001b[0m     features\u001b[38;5;241m=\u001b[39m[\n\u001b[1;32m      4\u001b[0m         RadialBasisFunction(\u001b[38;5;241m-\u001b[39m\u001b[38;5;241m5\u001b[39m, scale),\n\u001b[0;32m   (...)\u001b[0m\n\u001b[1;32m      9\u001b[0m     ]\n\u001b[1;32m     10\u001b[0m )\n\u001b[0;32m---> 11\u001b[0m \u001b[43mreg\u001b[49m\u001b[38;5;241;43m.\u001b[39;49m\u001b[43mfit\u001b[49m\u001b[43m(\u001b[49m\u001b[43mX\u001b[49m\u001b[43m,\u001b[49m\u001b[43my\u001b[49m\u001b[43m)\u001b[49m\n\u001b[1;32m     12\u001b[0m plot_predictor(reg, train_data\u001b[38;5;241m=\u001b[39m(X,y))\n\u001b[1;32m     13\u001b[0m \u001b[38;5;28;01mfor\u001b[39;00m phi \u001b[38;5;129;01min\u001b[39;00m reg\u001b[38;5;241m.\u001b[39mfeatures:\n",
      "Cell \u001b[0;32mIn[254], line 16\u001b[0m, in \u001b[0;36mLinearRegression.fit\u001b[0;34m(self, X, y)\u001b[0m\n\u001b[1;32m     14\u001b[0m \u001b[38;5;28;01mdef\u001b[39;00m \u001b[38;5;21mfit\u001b[39m(\u001b[38;5;28mself\u001b[39m, X, y):\n\u001b[1;32m     15\u001b[0m     \u001b[38;5;66;03m# Your solution goes here\u001b[39;00m\n\u001b[0;32m---> 16\u001b[0m     \u001b[38;5;28;01mraise\u001b[39;00m \u001b[38;5;167;01mNotImplementedError\u001b[39;00m()\n",
      "\u001b[0;31mNotImplementedError\u001b[0m: "
     ]
    }
   ],
   "source": [
    "scale = 1 # play with the scale\n",
    "reg = LinearRegression(\n",
    "    features=[\n",
    "        RadialBasisFunction(-5, scale),\n",
    "        RadialBasisFunction(-3, scale),\n",
    "        RadialBasisFunction(-1, scale),\n",
    "        RadialBasisFunction(1, scale),\n",
    "        RadialBasisFunction(3, scale),\n",
    "    ]\n",
    ")\n",
    "reg.fit(X,y)\n",
    "plot_predictor(reg, train_data=(X,y))\n",
    "for phi in reg.features:\n",
    "    plot_phi(phi)"
   ]
  },
  {
   "cell_type": "markdown",
   "id": "ce6e1d4a",
   "metadata": {},
   "source": [
    "- **Task:** Implement bias terms."
   ]
  },
  {
   "cell_type": "code",
   "execution_count": 266,
   "id": "0f1daa0f",
   "metadata": {},
   "outputs": [],
   "source": [
    "class BiasTerm(FeatureMap):\n",
    "    \n",
    "    def __call__(self, x):\n",
    "        # your solution goes here\n",
    "        raise NotImplementedError()"
   ]
  },
  {
   "cell_type": "markdown",
   "id": "008cf4ff",
   "metadata": {},
   "source": [
    "- **Task:** Implement trigonometric features."
   ]
  },
  {
   "cell_type": "code",
   "execution_count": 267,
   "id": "8deb47e7",
   "metadata": {},
   "outputs": [],
   "source": [
    "class TrigonometricFeatureMap(FeatureMap):\n",
    "    \n",
    "    def __init__(self, phase):\n",
    "        # your solution goes here\n",
    "        pass\n",
    "    \n",
    "    def __call__(self, x):\n",
    "        # your solution goes here\n",
    "        raise NotImplementedError()"
   ]
  },
  {
   "cell_type": "code",
   "execution_count": 268,
   "id": "09dce5f2",
   "metadata": {},
   "outputs": [
    {
     "ename": "NotImplementedError",
     "evalue": "",
     "output_type": "error",
     "traceback": [
      "\u001b[0;31m---------------------------------------------------------------------------\u001b[0m",
      "\u001b[0;31mNotImplementedError\u001b[0m                       Traceback (most recent call last)",
      "Cell \u001b[0;32mIn[268], line 11\u001b[0m\n\u001b[1;32m      1\u001b[0m reg \u001b[38;5;241m=\u001b[39m LinearRegression(\n\u001b[1;32m      2\u001b[0m     features\u001b[38;5;241m=\u001b[39m[\n\u001b[1;32m      3\u001b[0m         TrigonometricFeatureMap(\u001b[38;5;241m1\u001b[39m \u001b[38;5;241m/\u001b[39m (\u001b[38;5;241m2\u001b[39m \u001b[38;5;241m*\u001b[39m np\u001b[38;5;241m.\u001b[39mpi)),\n\u001b[0;32m   (...)\u001b[0m\n\u001b[1;32m      9\u001b[0m     ]\n\u001b[1;32m     10\u001b[0m )\n\u001b[0;32m---> 11\u001b[0m \u001b[43mreg\u001b[49m\u001b[38;5;241;43m.\u001b[39;49m\u001b[43mfit\u001b[49m\u001b[43m(\u001b[49m\u001b[43mX\u001b[49m\u001b[43m,\u001b[49m\u001b[43my\u001b[49m\u001b[43m)\u001b[49m\n\u001b[1;32m     12\u001b[0m plot_predictor(reg, train_data\u001b[38;5;241m=\u001b[39m(X,y))\n\u001b[1;32m     13\u001b[0m \u001b[38;5;28;01mfor\u001b[39;00m phi \u001b[38;5;129;01min\u001b[39;00m reg\u001b[38;5;241m.\u001b[39mfeatures:\n",
      "Cell \u001b[0;32mIn[254], line 16\u001b[0m, in \u001b[0;36mLinearRegression.fit\u001b[0;34m(self, X, y)\u001b[0m\n\u001b[1;32m     14\u001b[0m \u001b[38;5;28;01mdef\u001b[39;00m \u001b[38;5;21mfit\u001b[39m(\u001b[38;5;28mself\u001b[39m, X, y):\n\u001b[1;32m     15\u001b[0m     \u001b[38;5;66;03m# Your solution goes here\u001b[39;00m\n\u001b[0;32m---> 16\u001b[0m     \u001b[38;5;28;01mraise\u001b[39;00m \u001b[38;5;167;01mNotImplementedError\u001b[39;00m()\n",
      "\u001b[0;31mNotImplementedError\u001b[0m: "
     ]
    }
   ],
   "source": [
    "reg = LinearRegression(\n",
    "    features=[\n",
    "        TrigonometricFeatureMap(1 / (2 * np.pi)),\n",
    "        TrigonometricFeatureMap(0.25),\n",
    "        TrigonometricFeatureMap(0.5),\n",
    "        TrigonometricFeatureMap(0.75),\n",
    "        TrigonometricFeatureMap(1.0),\n",
    "        TrigonometricFeatureMap(2.0),\n",
    "    ]\n",
    ")\n",
    "reg.fit(X,y)\n",
    "plot_predictor(reg, train_data=(X,y))\n",
    "for phi in reg.features:\n",
    "    plot_phi(phi)"
   ]
  },
  {
   "cell_type": "markdown",
   "id": "b211dba2",
   "metadata": {},
   "source": [
    "# Task 3 - Linear Regression on Boston housing dataset\n",
    "Design features for the boston housing dataset and try to achieve an $\\operatorname{RMSE} <4.0$ on a test dataset."
   ]
  },
  {
   "cell_type": "code",
   "execution_count": 232,
   "id": "c58f29f5",
   "metadata": {},
   "outputs": [],
   "source": [
    "import pandas as pd"
   ]
  },
  {
   "cell_type": "code",
   "execution_count": 233,
   "id": "a2b7ff6e",
   "metadata": {},
   "outputs": [
    {
     "data": {
      "application/vnd.microsoft.datawrangler.viewer.v0+json": {
       "columns": [
        {
         "name": "index",
         "rawType": "int64",
         "type": "integer"
        },
        {
         "name": "CRIM",
         "rawType": "float64",
         "type": "float"
        },
        {
         "name": "ZN",
         "rawType": "float64",
         "type": "float"
        },
        {
         "name": "INDUS",
         "rawType": "float64",
         "type": "float"
        },
        {
         "name": "CHAS",
         "rawType": "int64",
         "type": "integer"
        },
        {
         "name": "NOX",
         "rawType": "float64",
         "type": "float"
        },
        {
         "name": "RM",
         "rawType": "float64",
         "type": "float"
        },
        {
         "name": "AGE",
         "rawType": "float64",
         "type": "float"
        },
        {
         "name": "DIS",
         "rawType": "float64",
         "type": "float"
        },
        {
         "name": "RAD",
         "rawType": "int64",
         "type": "integer"
        },
        {
         "name": "TAX",
         "rawType": "float64",
         "type": "float"
        },
        {
         "name": "PTRATIO",
         "rawType": "float64",
         "type": "float"
        },
        {
         "name": "B",
         "rawType": "float64",
         "type": "float"
        },
        {
         "name": "LSTAT",
         "rawType": "float64",
         "type": "float"
        },
        {
         "name": "MEDV",
         "rawType": "float64",
         "type": "float"
        }
       ],
       "conversionMethod": "pd.DataFrame",
       "ref": "586c7133-57a0-41b4-b71d-bb75468a7b46",
       "rows": [
        [
         "0",
         "0.00632",
         "18.0",
         "2.31",
         "0",
         "0.538",
         "6.575",
         "65.2",
         "4.09",
         "1",
         "296.0",
         "15.3",
         "396.9",
         "4.98",
         "24.0"
        ],
        [
         "1",
         "0.02731",
         "0.0",
         "7.07",
         "0",
         "0.469",
         "6.421",
         "78.9",
         "4.9671",
         "2",
         "242.0",
         "17.8",
         "396.9",
         "9.14",
         "21.6"
        ],
        [
         "2",
         "0.02729",
         "0.0",
         "7.07",
         "0",
         "0.469",
         "7.185",
         "61.1",
         "4.9671",
         "2",
         "242.0",
         "17.8",
         "392.83",
         "4.03",
         "34.7"
        ],
        [
         "3",
         "0.03237",
         "0.0",
         "2.18",
         "0",
         "0.458",
         "6.998",
         "45.8",
         "6.0622",
         "3",
         "222.0",
         "18.7",
         "394.63",
         "2.94",
         "33.4"
        ],
        [
         "4",
         "0.06905",
         "0.0",
         "2.18",
         "0",
         "0.458",
         "7.147",
         "54.2",
         "6.0622",
         "3",
         "222.0",
         "18.7",
         "396.9",
         "5.33",
         "36.2"
        ]
       ],
       "shape": {
        "columns": 14,
        "rows": 5
       }
      },
      "text/html": [
       "<div>\n",
       "<style scoped>\n",
       "    .dataframe tbody tr th:only-of-type {\n",
       "        vertical-align: middle;\n",
       "    }\n",
       "\n",
       "    .dataframe tbody tr th {\n",
       "        vertical-align: top;\n",
       "    }\n",
       "\n",
       "    .dataframe thead th {\n",
       "        text-align: right;\n",
       "    }\n",
       "</style>\n",
       "<table border=\"1\" class=\"dataframe\">\n",
       "  <thead>\n",
       "    <tr style=\"text-align: right;\">\n",
       "      <th></th>\n",
       "      <th>CRIM</th>\n",
       "      <th>ZN</th>\n",
       "      <th>INDUS</th>\n",
       "      <th>CHAS</th>\n",
       "      <th>NOX</th>\n",
       "      <th>RM</th>\n",
       "      <th>AGE</th>\n",
       "      <th>DIS</th>\n",
       "      <th>RAD</th>\n",
       "      <th>TAX</th>\n",
       "      <th>PTRATIO</th>\n",
       "      <th>B</th>\n",
       "      <th>LSTAT</th>\n",
       "      <th>MEDV</th>\n",
       "    </tr>\n",
       "  </thead>\n",
       "  <tbody>\n",
       "    <tr>\n",
       "      <th>0</th>\n",
       "      <td>0.00632</td>\n",
       "      <td>18.0</td>\n",
       "      <td>2.31</td>\n",
       "      <td>0</td>\n",
       "      <td>0.538</td>\n",
       "      <td>6.575</td>\n",
       "      <td>65.2</td>\n",
       "      <td>4.0900</td>\n",
       "      <td>1</td>\n",
       "      <td>296.0</td>\n",
       "      <td>15.3</td>\n",
       "      <td>396.90</td>\n",
       "      <td>4.98</td>\n",
       "      <td>24.0</td>\n",
       "    </tr>\n",
       "    <tr>\n",
       "      <th>1</th>\n",
       "      <td>0.02731</td>\n",
       "      <td>0.0</td>\n",
       "      <td>7.07</td>\n",
       "      <td>0</td>\n",
       "      <td>0.469</td>\n",
       "      <td>6.421</td>\n",
       "      <td>78.9</td>\n",
       "      <td>4.9671</td>\n",
       "      <td>2</td>\n",
       "      <td>242.0</td>\n",
       "      <td>17.8</td>\n",
       "      <td>396.90</td>\n",
       "      <td>9.14</td>\n",
       "      <td>21.6</td>\n",
       "    </tr>\n",
       "    <tr>\n",
       "      <th>2</th>\n",
       "      <td>0.02729</td>\n",
       "      <td>0.0</td>\n",
       "      <td>7.07</td>\n",
       "      <td>0</td>\n",
       "      <td>0.469</td>\n",
       "      <td>7.185</td>\n",
       "      <td>61.1</td>\n",
       "      <td>4.9671</td>\n",
       "      <td>2</td>\n",
       "      <td>242.0</td>\n",
       "      <td>17.8</td>\n",
       "      <td>392.83</td>\n",
       "      <td>4.03</td>\n",
       "      <td>34.7</td>\n",
       "    </tr>\n",
       "    <tr>\n",
       "      <th>3</th>\n",
       "      <td>0.03237</td>\n",
       "      <td>0.0</td>\n",
       "      <td>2.18</td>\n",
       "      <td>0</td>\n",
       "      <td>0.458</td>\n",
       "      <td>6.998</td>\n",
       "      <td>45.8</td>\n",
       "      <td>6.0622</td>\n",
       "      <td>3</td>\n",
       "      <td>222.0</td>\n",
       "      <td>18.7</td>\n",
       "      <td>394.63</td>\n",
       "      <td>2.94</td>\n",
       "      <td>33.4</td>\n",
       "    </tr>\n",
       "    <tr>\n",
       "      <th>4</th>\n",
       "      <td>0.06905</td>\n",
       "      <td>0.0</td>\n",
       "      <td>2.18</td>\n",
       "      <td>0</td>\n",
       "      <td>0.458</td>\n",
       "      <td>7.147</td>\n",
       "      <td>54.2</td>\n",
       "      <td>6.0622</td>\n",
       "      <td>3</td>\n",
       "      <td>222.0</td>\n",
       "      <td>18.7</td>\n",
       "      <td>396.90</td>\n",
       "      <td>5.33</td>\n",
       "      <td>36.2</td>\n",
       "    </tr>\n",
       "  </tbody>\n",
       "</table>\n",
       "</div>"
      ],
      "text/plain": [
       "      CRIM    ZN  INDUS  CHAS    NOX     RM   AGE     DIS  RAD    TAX  \\\n",
       "0  0.00632  18.0   2.31     0  0.538  6.575  65.2  4.0900    1  296.0   \n",
       "1  0.02731   0.0   7.07     0  0.469  6.421  78.9  4.9671    2  242.0   \n",
       "2  0.02729   0.0   7.07     0  0.469  7.185  61.1  4.9671    2  242.0   \n",
       "3  0.03237   0.0   2.18     0  0.458  6.998  45.8  6.0622    3  222.0   \n",
       "4  0.06905   0.0   2.18     0  0.458  7.147  54.2  6.0622    3  222.0   \n",
       "\n",
       "   PTRATIO       B  LSTAT  MEDV  \n",
       "0     15.3  396.90   4.98  24.0  \n",
       "1     17.8  396.90   9.14  21.6  \n",
       "2     17.8  392.83   4.03  34.7  \n",
       "3     18.7  394.63   2.94  33.4  \n",
       "4     18.7  396.90   5.33  36.2  "
      ]
     },
     "execution_count": 233,
     "metadata": {},
     "output_type": "execute_result"
    }
   ],
   "source": [
    "column_names = ['CRIM', 'ZN', 'INDUS', 'CHAS', 'NOX', 'RM', 'AGE', 'DIS', 'RAD', 'TAX', 'PTRATIO', 'B', 'LSTAT', 'MEDV']\n",
    "df = pd.read_csv('./data/housing.csv', header=None, delimiter=r\"\\s+\", names=column_names)\n",
    "df.head()"
   ]
  },
  {
   "cell_type": "code",
   "execution_count": 234,
   "id": "c43f66fd",
   "metadata": {},
   "outputs": [],
   "source": [
    "np.random.seed(2025)\n",
    "num_datapoints = len(df)\n",
    "num_training = int(num_datapoints * 0.7)\n",
    "num_test = num_datapoints - num_training\n",
    "shuffle = np.random.permutation(num_datapoints)\n",
    "training_idx = shuffle[:num_training]\n",
    "test_idx = shuffle[num_training:]"
   ]
  },
  {
   "cell_type": "code",
   "execution_count": 235,
   "id": "0eceecf6",
   "metadata": {},
   "outputs": [],
   "source": [
    "label_columns = ['MEDV']\n",
    "features_columns = column_names.copy()\n",
    "features_columns.remove('MEDV')\n",
    "df[features_columns] = (df[features_columns] - df.iloc[training_idx][features_columns].mean()) / df.iloc[training_idx][features_columns].std()"
   ]
  },
  {
   "cell_type": "code",
   "execution_count": 236,
   "id": "e584a9c8",
   "metadata": {},
   "outputs": [],
   "source": [
    "def get_data_matrices(raw_data, idx):\n",
    "    X = raw_data.iloc[idx][features_columns].to_numpy()\n",
    "    y = raw_data.iloc[idx][label_columns].to_numpy()\n",
    "    return X, y"
   ]
  },
  {
   "cell_type": "code",
   "execution_count": 237,
   "id": "92d46cba",
   "metadata": {},
   "outputs": [],
   "source": [
    "X_train, y_train = get_data_matrices(df, training_idx)\n",
    "X_test, y_test = get_data_matrices(df, test_idx)"
   ]
  },
  {
   "cell_type": "code",
   "execution_count": 238,
   "id": "1100ee40",
   "metadata": {},
   "outputs": [],
   "source": [
    "def compute_rmse(y_hat, y):\n",
    "    return np.sqrt(np.mean(np.square(y - y_hat)))"
   ]
  },
  {
   "cell_type": "code",
   "execution_count": 271,
   "id": "b462b0c7",
   "metadata": {},
   "outputs": [
    {
     "ename": "NotImplementedError",
     "evalue": "",
     "output_type": "error",
     "traceback": [
      "\u001b[0;31m---------------------------------------------------------------------------\u001b[0m",
      "\u001b[0;31mNotImplementedError\u001b[0m                       Traceback (most recent call last)",
      "Cell \u001b[0;32mIn[271], line 2\u001b[0m\n\u001b[1;32m      1\u001b[0m reg \u001b[38;5;241m=\u001b[39m LinearRegression(features\u001b[38;5;241m=\u001b[39m[]) \u001b[38;5;66;03m# your solution goes here\u001b[39;00m\n\u001b[0;32m----> 2\u001b[0m \u001b[43mreg\u001b[49m\u001b[38;5;241;43m.\u001b[39;49m\u001b[43mfit\u001b[49m\u001b[43m(\u001b[49m\u001b[43mX_train\u001b[49m\u001b[43m,\u001b[49m\u001b[43m \u001b[49m\u001b[43my_train\u001b[49m\u001b[43m)\u001b[49m\n\u001b[1;32m      3\u001b[0m \u001b[38;5;28mprint\u001b[39m(\u001b[38;5;124mf\u001b[39m\u001b[38;5;124m'\u001b[39m\u001b[38;5;124mTraining RMSE: \u001b[39m\u001b[38;5;132;01m{\u001b[39;00mcompute_rmse(reg\u001b[38;5;241m.\u001b[39mpredict(X_train),\u001b[38;5;250m \u001b[39my_train)\u001b[38;5;132;01m}\u001b[39;00m\u001b[38;5;124m'\u001b[39m)\n\u001b[1;32m      4\u001b[0m \u001b[38;5;28mprint\u001b[39m(\u001b[38;5;124mf\u001b[39m\u001b[38;5;124m'\u001b[39m\u001b[38;5;124mTest RMSE: \u001b[39m\u001b[38;5;132;01m{\u001b[39;00mcompute_rmse(reg\u001b[38;5;241m.\u001b[39mpredict(X_test),\u001b[38;5;250m \u001b[39my_test)\u001b[38;5;132;01m}\u001b[39;00m\u001b[38;5;124m'\u001b[39m)\n",
      "Cell \u001b[0;32mIn[254], line 16\u001b[0m, in \u001b[0;36mLinearRegression.fit\u001b[0;34m(self, X, y)\u001b[0m\n\u001b[1;32m     14\u001b[0m \u001b[38;5;28;01mdef\u001b[39;00m \u001b[38;5;21mfit\u001b[39m(\u001b[38;5;28mself\u001b[39m, X, y):\n\u001b[1;32m     15\u001b[0m     \u001b[38;5;66;03m# Your solution goes here\u001b[39;00m\n\u001b[0;32m---> 16\u001b[0m     \u001b[38;5;28;01mraise\u001b[39;00m \u001b[38;5;167;01mNotImplementedError\u001b[39;00m()\n",
      "\u001b[0;31mNotImplementedError\u001b[0m: "
     ]
    }
   ],
   "source": [
    "reg = LinearRegression(features=[]) # your solution goes here\n",
    "reg.fit(X_train, y_train)\n",
    "print(f'Training RMSE: {compute_rmse(reg.predict(X_train), y_train)}')\n",
    "print(f'Test RMSE: {compute_rmse(reg.predict(X_test), y_test)}')\n"
   ]
  },
  {
   "cell_type": "markdown",
   "id": "0a7ede37",
   "metadata": {},
   "source": [
    "- **Task:** Try to find optimal hyperparameter of the polynomial features such that the $\\operatorname{RMSE}$ on the test set `X_test` is minimal."
   ]
  },
  {
   "cell_type": "code",
   "execution_count": 272,
   "id": "0f7bbd79",
   "metadata": {},
   "outputs": [
    {
     "ename": "NotImplementedError",
     "evalue": "",
     "output_type": "error",
     "traceback": [
      "\u001b[0;31m---------------------------------------------------------------------------\u001b[0m",
      "\u001b[0;31mNotImplementedError\u001b[0m                       Traceback (most recent call last)",
      "Cell \u001b[0;32mIn[272], line 14\u001b[0m\n\u001b[1;32m      9\u001b[0m reg \u001b[38;5;241m=\u001b[39m LinearRegression(\n\u001b[1;32m     10\u001b[0m     features\u001b[38;5;241m=\u001b[39m features,\n\u001b[1;32m     11\u001b[0m     \u001b[38;5;241m*\u001b[39m\u001b[38;5;241m*\u001b[39mkwargs\n\u001b[1;32m     12\u001b[0m )\n\u001b[1;32m     13\u001b[0m \u001b[38;5;28;01mtry\u001b[39;00m:\n\u001b[0;32m---> 14\u001b[0m     \u001b[43mreg\u001b[49m\u001b[38;5;241;43m.\u001b[39;49m\u001b[43mfit\u001b[49m\u001b[43m(\u001b[49m\u001b[43mX_train\u001b[49m\u001b[43m,\u001b[49m\u001b[43m \u001b[49m\u001b[43my_train\u001b[49m\u001b[43m)\u001b[49m\n\u001b[1;32m     15\u001b[0m     e \u001b[38;5;241m=\u001b[39m compute_rmse(reg\u001b[38;5;241m.\u001b[39mpredict(X_test), y_test)\n\u001b[1;32m     16\u001b[0m     \u001b[38;5;28;01mif\u001b[39;00m e \u001b[38;5;241m<\u001b[39m min_rmse:\n",
      "Cell \u001b[0;32mIn[254], line 16\u001b[0m, in \u001b[0;36mLinearRegression.fit\u001b[0;34m(self, X, y)\u001b[0m\n\u001b[1;32m     14\u001b[0m \u001b[38;5;28;01mdef\u001b[39;00m \u001b[38;5;21mfit\u001b[39m(\u001b[38;5;28mself\u001b[39m, X, y):\n\u001b[1;32m     15\u001b[0m     \u001b[38;5;66;03m# Your solution goes here\u001b[39;00m\n\u001b[0;32m---> 16\u001b[0m     \u001b[38;5;28;01mraise\u001b[39;00m \u001b[38;5;167;01mNotImplementedError\u001b[39;00m()\n",
      "\u001b[0;31mNotImplementedError\u001b[0m: "
     ]
    }
   ],
   "source": [
    "rmse = []\n",
    "rmse_train = []\n",
    "kwargs = {} # your solution goes here: you can specify additional hyperparameters of the linear regression model here\n",
    "\n",
    "min_rmse = np.inf\n",
    "max_degrees = range(1, 6)\n",
    "for max_degree in max_degrees:\n",
    "    features = [] # your solution goes here\n",
    "    reg = LinearRegression(\n",
    "        features= features,\n",
    "        **kwargs\n",
    "    )\n",
    "    try:\n",
    "        reg.fit(X_train, y_train)\n",
    "        e = compute_rmse(reg.predict(X_test), y_test)\n",
    "        if e < min_rmse:\n",
    "            min_rmse = e\n",
    "        rmse.append(e)\n",
    "        rmse_train.append(compute_rmse(reg.predict(X_train), y_train))\n",
    "    except ValueError:\n",
    "        rmse.append(np.nan)\n",
    "        rmse_train.append(np.nan)\n",
    "\n",
    "plt.plot(np.asarray(max_degrees) - 1, rmse, marker='o', label='Test')\n",
    "plt.plot(np.asarray(max_degrees)- 1, rmse_train, marker='x', label='Train')\n",
    "plt.ylabel('Error (RMSE)')\n",
    "plt.xlabel('Polynomial Degree')\n",
    "plt.legend()\n",
    "plt.grid()\n",
    "print(f\"Min RMSE: {min_rmse}\")"
   ]
  },
  {
   "cell_type": "markdown",
   "id": "e2f08202",
   "metadata": {},
   "source": [
    "- **Task:** Can you be better than the polynomial features? (open challenge)"
   ]
  },
  {
   "cell_type": "code",
   "execution_count": 273,
   "id": "28ec43cf",
   "metadata": {},
   "outputs": [],
   "source": [
    "# your solution goes here"
   ]
  }
 ],
 "metadata": {
  "kernelspec": {
   "display_name": "ml_exercise-ss24",
   "language": "python",
   "name": "python3"
  },
  "language_info": {
   "codemirror_mode": {
    "name": "ipython",
    "version": 3
   },
   "file_extension": ".py",
   "mimetype": "text/x-python",
   "name": "python",
   "nbconvert_exporter": "python",
   "pygments_lexer": "ipython3",
   "version": "3.11.3"
  }
 },
 "nbformat": 4,
 "nbformat_minor": 5
}

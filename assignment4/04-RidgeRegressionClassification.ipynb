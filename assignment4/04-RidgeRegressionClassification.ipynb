{
 "cells": [
  {
   "cell_type": "markdown",
   "id": "e957005b",
   "metadata": {},
   "source": [
    "# Assignment 4: Ridge Regression, Correlation and Classification"
   ]
  },
  {
   "cell_type": "markdown",
   "id": "639be9cf",
   "metadata": {},
   "source": [
    "Please add the name, first name, immatriculation number and study program below. Each member of the group has to be added:\n",
    "- *Name: , First Name: , matr. number: , study program:.*\n",
    "- *Name:, First Name:, matr. number:, study program:.*\n",
    "- *Name:, First Name:, matr. number:, study program:.*"
   ]
  },
  {
   "cell_type": "markdown",
   "id": "294897f6",
   "metadata": {},
   "source": [
    "In this notebook, you will explore the difference between covariance and correlation."
   ]
  },
  {
   "cell_type": "code",
   "id": "f5b0497c",
   "metadata": {
    "ExecuteTime": {
     "end_time": "2025-05-13T09:46:34.120543Z",
     "start_time": "2025-05-13T09:46:34.118446Z"
    }
   },
   "source": [
    "# Import necessary libraries\n",
    "import numpy as np\n",
    "import pandas as pd\n",
    "import matplotlib.pyplot as plt\n",
    "import seaborn as sns"
   ],
   "outputs": [],
   "execution_count": 1
  },
  {
   "cell_type": "code",
   "id": "80473c11",
   "metadata": {
    "ExecuteTime": {
     "end_time": "2025-05-13T09:46:34.126446Z",
     "start_time": "2025-05-13T09:46:34.122015Z"
    }
   },
   "source": [
    "def load_housing():\n",
    "    column_names = ['CRIM', 'ZN', 'INDUS', 'CHAS', 'NOX', 'RM', 'AGE', 'DIS', 'RAD', 'TAX', 'PTRATIO', 'B', 'LSTAT', 'MEDV']\n",
    "    df = pd.read_csv('./data/housing.csv', header=None, delimiter=r\"\\s+\", names=column_names)\n",
    "    y = np.array(df['MEDV'])\n",
    "    X = np.array(df.drop(columns=[\"MEDV\"]))\n",
    "    return X, y"
   ],
   "outputs": [],
   "execution_count": 2
  },
  {
   "cell_type": "markdown",
   "id": "b7ed5548",
   "metadata": {},
   "source": [
    "The following function visualizes a covariance matrix as a heatmap."
   ]
  },
  {
   "cell_type": "code",
   "id": "7afe0e01",
   "metadata": {
    "ExecuteTime": {
     "end_time": "2025-05-13T09:46:34.130635Z",
     "start_time": "2025-05-13T09:46:34.127976Z"
    }
   },
   "source": [
    "def plot_cov_heatmap(Sigma, matrix_name):\n",
    "    # Plot heatmap\n",
    "    plt.figure(figsize=(8, 6))\n",
    "    sns.heatmap(Sigma, annot=True, fmt=\".2f\", cmap=\"coolwarm\",)\n",
    "    plt.title(f\"{matrix_name} Matrix Heatmap\")\n",
    "    plt.tight_layout()\n",
    "    plt.show()"
   ],
   "outputs": [],
   "execution_count": 3
  },
  {
   "cell_type": "markdown",
   "id": "05fed7d3",
   "metadata": {},
   "source": [
    "**Task :** Implement PCA. With correlation=True it should perform the eigen-decomposition on the correlation matrix, instead of the covariance matrix. "
   ]
  },
  {
   "cell_type": "code",
   "id": "97dc524c",
   "metadata": {
    "ExecuteTime": {
     "end_time": "2025-05-13T09:46:34.134137Z",
     "start_time": "2025-05-13T09:46:34.132264Z"
    }
   },
   "source": [
    "# Step 2: Apply PCA to reduce the dimensionality to 2D\n",
    "def apply_pca(X, n_components=2, correlation:bool=True):\n",
    "    raise NotImplementedError(\"Your solution goes here.\")"
   ],
   "outputs": [],
   "execution_count": 4
  },
  {
   "cell_type": "markdown",
   "id": "31c2f7aa",
   "metadata": {},
   "source": [
    "**Task:** Compare the results."
   ]
  },
  {
   "cell_type": "code",
   "id": "003fe5b5",
   "metadata": {
    "ExecuteTime": {
     "end_time": "2025-05-13T09:46:34.499552Z",
     "start_time": "2025-05-13T09:46:34.135477Z"
    }
   },
   "source": [
    "X, y = load_housing()\n",
    "\n",
    "# Step 1: Apply PCA to reduce to 2D\n",
    "correlations= [True, False]\n",
    "for c in correlations:\n",
    "    X_pca = apply_pca(X, correlation=c)\n",
    "\n",
    "    # Step 2: Plot the data and visually determine k\n",
    "    plt.figure(figsize=(8, 6))\n",
    "    print(X_pca[:,0].shape)\n",
    "    plt.scatter(X_pca[:, 0], X_pca[:, 1], c=y, cmap='viridis')\n",
    "    # plt.title('PCA of Iris Dataset')\n",
    "    plt.xlabel('PCA Component 1')\n",
    "    plt.ylabel('PCA Component 2')\n",
    "    #plt.colorbar(label='True Labels')\n",
    "    plt.show()"
   ],
   "outputs": [
    {
     "ename": "NotImplementedError",
     "evalue": "Your solution goes here.",
     "output_type": "error",
     "traceback": [
      "\u001B[0;31m---------------------------------------------------------------------------\u001B[0m",
      "\u001B[0;31mNotImplementedError\u001B[0m                       Traceback (most recent call last)",
      "Cell \u001B[0;32mIn[5], line 6\u001B[0m\n\u001B[1;32m      4\u001B[0m correlations\u001B[38;5;241m=\u001B[39m [\u001B[38;5;28;01mTrue\u001B[39;00m, \u001B[38;5;28;01mFalse\u001B[39;00m]\n\u001B[1;32m      5\u001B[0m \u001B[38;5;28;01mfor\u001B[39;00m c \u001B[38;5;129;01min\u001B[39;00m correlations:\n\u001B[0;32m----> 6\u001B[0m     X_pca \u001B[38;5;241m=\u001B[39m \u001B[43mapply_pca\u001B[49m\u001B[43m(\u001B[49m\u001B[43mX\u001B[49m\u001B[43m,\u001B[49m\u001B[43m \u001B[49m\u001B[43mcorrelation\u001B[49m\u001B[38;5;241;43m=\u001B[39;49m\u001B[43mc\u001B[49m\u001B[43m)\u001B[49m\n\u001B[1;32m      8\u001B[0m     \u001B[38;5;66;03m# Step 2: Plot the data and visually determine k\u001B[39;00m\n\u001B[1;32m      9\u001B[0m     plt\u001B[38;5;241m.\u001B[39mfigure(figsize\u001B[38;5;241m=\u001B[39m(\u001B[38;5;241m8\u001B[39m, \u001B[38;5;241m6\u001B[39m))\n",
      "Cell \u001B[0;32mIn[4], line 3\u001B[0m, in \u001B[0;36mapply_pca\u001B[0;34m(X, n_components, correlation)\u001B[0m\n\u001B[1;32m      2\u001B[0m \u001B[38;5;28;01mdef\u001B[39;00m \u001B[38;5;21mapply_pca\u001B[39m(X, n_components\u001B[38;5;241m=\u001B[39m\u001B[38;5;241m2\u001B[39m, correlation:\u001B[38;5;28mbool\u001B[39m\u001B[38;5;241m=\u001B[39m\u001B[38;5;28;01mTrue\u001B[39;00m):\n\u001B[0;32m----> 3\u001B[0m     \u001B[38;5;28;01mraise\u001B[39;00m \u001B[38;5;167;01mNotImplementedError\u001B[39;00m(\u001B[38;5;124m\"\u001B[39m\u001B[38;5;124mYour solution goes here.\u001B[39m\u001B[38;5;124m\"\u001B[39m)\n",
      "\u001B[0;31mNotImplementedError\u001B[0m: Your solution goes here."
     ]
    }
   ],
   "execution_count": 5
  },
  {
   "cell_type": "markdown",
   "id": "cbe9a4ea82bf156d",
   "metadata": {},
   "source": [
    "The TAX feature represents the full-value property-tax rate per 10,000 dollar of assessed property value in a Boston suburb. Its units are dollars per 10,000, indicating how much tax is paid for every 10,000 of property value. Higher TAX values correspond to areas with higher local property tax rates, which can reflect on housing affordability and desirability.\n",
    "\n",
    "It is visualized below."
   ]
  },
  {
   "cell_type": "code",
   "id": "5900e6d4",
   "metadata": {
    "ExecuteTime": {
     "end_time": "2025-05-13T09:46:34.500927Z",
     "start_time": "2025-05-13T09:46:34.500860Z"
    }
   },
   "source": [
    "sns.kdeplot(X[:, 9])"
   ],
   "outputs": [],
   "execution_count": null
  },
  {
   "cell_type": "markdown",
   "id": "2f736971708d9328",
   "metadata": {},
   "source": [
    "**Task:** What happens if you change the units of this feature? Again, compare the variants to compute PCA."
   ]
  },
  {
   "cell_type": "code",
   "id": "9bee3e050fbcad5e",
   "metadata": {
    "ExecuteTime": {
     "end_time": "2025-05-13T09:46:34.501791Z",
     "start_time": "2025-05-13T09:46:34.501687Z"
    }
   },
   "source": [
    "raise NotImplementedError(\"Your solution goes here.\")"
   ],
   "outputs": [],
   "execution_count": null
  },
  {
   "cell_type": "code",
   "id": "a26f561196eee42a",
   "metadata": {},
   "source": [],
   "outputs": [],
   "execution_count": null
  }
 ],
 "metadata": {
  "kernelspec": {
   "display_name": "ml_exercise-ss24",
   "language": "python",
   "name": "python3"
  },
  "language_info": {
   "codemirror_mode": {
    "name": "ipython",
    "version": 3
   },
   "file_extension": ".py",
   "mimetype": "text/x-python",
   "name": "python",
   "nbconvert_exporter": "python",
   "pygments_lexer": "ipython3",
   "version": "3.11.3"
  }
 },
 "nbformat": 4,
 "nbformat_minor": 5
}

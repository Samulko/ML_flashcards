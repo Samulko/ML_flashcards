{
  "cells": [
    {
      "cell_type": "markdown",
      "metadata": {
        "id": "v0PU6tkS9ZR-"
      },
      "source": [
        "## Assignment 8: Random Forest\n",
        "\n",
        "Please add the name, first name, immatriculation number and study program below. Each member of the group has to be added:\n",
        "- *Name: , First Name: , matr. number: , study program:.*\n",
        "- *Name:, First Name:, matr. number:, study program:.*\n",
        "- *Name:, First Name:, matr. number:, study program:.*"
      ]
    },
    {
      "cell_type": "markdown",
      "metadata": {
        "id": "FAYH2Emz0B2s"
      },
      "source": [
        "In this task, you will Train and Fine-tune a Decision Tree on a real-world classification problem using the **Titanic** dataset — a historical dataset containing information about passengers on the Titanic, used to predict whether a passenger survived or not. The dataset is available through `seaborn`’s `load_dataset` function.\n",
        "\n",
        "The data includes passenger details such as:\n",
        "\n",
        "\n",
        "*   **pclass**: Ticket class (1st, 2nd, or 3rd)\n",
        "*   **sex**: Gender of the passenger\n",
        "*   **age**: Age of the passenger\n",
        "*   **fare**: Fare paid for the ticket\n",
        "*   **embarked**: Port of embarkation (C = Cherbourg; Q = Queenstown; S = Southampton)\n",
        "*   **who**: Person type (man, woman, child)\n",
        "*   **alone**: Whether the passenger was alone or not\n",
        "\n",
        "These features are used to build predictive models that estimate a passenger’s chance of survival during the disaster."
      ]
    },
    {
      "cell_type": "markdown",
      "metadata": {
        "id": "auJksnv09YJI"
      },
      "source": [
        "Load the Dataset and Split the Dataset into Training and Test Sets"
      ]
    },
    {
      "cell_type": "code",
      "execution_count": 5,
      "metadata": {
        "id": "0WPypmLYmey5"
      },
      "outputs": [],
      "source": [
        "import seaborn as sns\n",
        "import pandas as pd\n",
        "import numpy as np\n",
        "from sklearn.tree import DecisionTreeClassifier\n",
        "from sklearn.model_selection import train_test_split, GridSearchCV, StratifiedKFold\n",
        "from sklearn.metrics import accuracy_score\n",
        "\n",
        "# Load and preprocess data\n",
        "titanic_data = sns.load_dataset('titanic')\n",
        "df = titanic_data.dropna(subset=['survived'])\n",
        "features = ['pclass', 'sex', 'age', 'fare', 'embarked', 'alone']\n",
        "df = df[features + ['survived']].dropna()\n",
        "df_encoded = pd.get_dummies(df, columns=['sex', 'embarked', 'alone'], drop_first=True)\n",
        "\n",
        "X = df_encoded.drop('survived', axis=1)\n",
        "y = df_encoded['survived']\n",
        "X_train, X_test, y_train, y_test = train_test_split(X, y, test_size=0.2, random_state=42, stratify=y)"
      ]
    },
    {
      "cell_type": "markdown",
      "metadata": {
        "id": "xrebGLt80nNW"
      },
      "source": [
        "### Task 3.1: Random Forest – Tuning the Number of Trees\n",
        "\n",
        "Your task is to use the scikit-learn implementation of a random forest classifier (`RandomForestClassifier`) to investigate how the number of trees affects model performance.\n",
        "\n",
        "You should:\n",
        "\n",
        "1. Train multiple RandomForestClassifier models with different values for `n_estimators` (e.g., 1, 5, 10, 25, 50, 75, 100, 125, 150).\n",
        "2. Evaluate each model using cross-validation and record the F1-score.\n",
        "3. Identify which number of trees gives the best performance.\n",
        "4. Plot the F1-score as a function of the number of trees."
      ]
    },
    {
      "cell_type": "code",
      "execution_count": 1,
      "metadata": {
        "id": "47UUA99t38Ah"
      },
      "outputs": [],
      "source": [
        "import numpy as np\n",
        "import matplotlib.pyplot as plt\n",
        "from sklearn.ensemble import RandomForestClassifier\n",
        "from sklearn.metrics import confusion_matrix, f1_score\n",
        "\n",
        "# your solution\n"
      ]
    },
    {
      "cell_type": "markdown",
      "metadata": {
        "id": "S6uqsz2W5KGa"
      },
      "source": [
        "### Task 3.2: AdaBoost – Tuning the Number of Learners\n",
        "\n",
        "\n",
        "Your task is to use the scikit-learn implementation of AdaBoost (`AdaBoostClassifier`) to investigate how the number of learners affects model performance.\n",
        "\n",
        "You should:\n",
        "\n",
        "1. Train multiple AdaBoostClassifier models using decision stumps\n",
        "   (DecisionTreeClassifier with max_depth=1) as weak learners.\n",
        "2. Evaluate each model using cross-validation and record both accuracy and F1-score.\n",
        "3. Plot how performance changes with the number of learners.\n",
        "4. Identify the number of learners that gives the best F1-score.\n",
        "5. Train a final AdaBoost model with the best number of learners and evaluate it on a held-out test set.\n"
      ]
    },
    {
      "cell_type": "code",
      "execution_count": 2,
      "metadata": {
        "id": "jV4wnCRJNFjG"
      },
      "outputs": [],
      "source": [
        "import numpy as np\n",
        "import matplotlib.pyplot as plt\n",
        "from sklearn.ensemble import AdaBoostClassifier\n",
        "from sklearn.tree import DecisionTreeClassifier\n",
        "from sklearn.metrics import f1_score, accuracy_score, confusion_matrix\n",
        "\n",
        "# your solution\n",
        "\n"
      ]
    }
  ],
  "metadata": {
    "colab": {
      "provenance": []
    },
    "kernelspec": {
      "display_name": "ml_exercise-ss24",
      "language": "python",
      "name": "python3"
    },
    "language_info": {
      "name": "python",
      "version": "3.11.3"
    }
  },
  "nbformat": 4,
  "nbformat_minor": 0
}

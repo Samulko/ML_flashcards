{
 "cells": [
  {
   "cell_type": "markdown",
   "id": "8d9d84d4",
   "metadata": {},
   "source": [
    "# Assignment 5 – Naïve Bayes Classification\n",
    "## Breast‑Cancer Wisconsin Dataset\n",
    "\n",
    "Please add the name, first name, immatriculation number and study program below.  \n",
    "Each member of the group has to be listed:\n",
    "\n",
    "- *Name: , First Name: , matr. number: , study program:.*\n",
    "- *Name: , First Name: , matr. number: , study program:.*\n",
    "- *Name: , First Name: , matr. number: , study program:.*"
   ]
  },
  {
   "cell_type": "markdown",
   "id": "404efda6",
   "metadata": {},
   "source": [
    "### Background\n",
    "The **Breast‑Cancer Wisconsin (Diagnostic)** dataset contains 30 real‑valued\n",
    "features computed from digitised images of a fine‑needle aspirate (FNA) of a breast mass.  \n",
    "Each instance is labelled **malignant** (`0`) or **benign** (`1`).  Reliable automated\n",
    "diagnosis can help clinicians decide whether further invasive procedures are\n",
    "necessary. Here are some links to read more about the dataset:\n",
    "\n",
    "1. https://scikit-learn.org/stable/modules/generated/sklearn.datasets.load_breast_cancer.html\n",
    "2. https://archive.ics.uci.edu/dataset/17/breast+cancer+wisconsin+diagnostic\n",
    "\n",
    "In this assignment you will:\n",
    "1. perform a short exploratory analysis;\n",
    "2. implement **Gaussian Naïve Bayes (GNB) from scratch**;\n",
    "3. evaluate it with accuracy, precision, recall and *macro* $F_1$;\n",
    "4. compare to scikit‑learn’s reference implementation;"
   ]
  },
  {
   "cell_type": "code",
   "execution_count": null,
   "id": "0e2a832d",
   "metadata": {},
   "outputs": [],
   "source": [
    "# === imports (please don't import sklearn GaussianNB yet, you will use it later when told to do so) ===\n",
    "import numpy as np, pandas as pd, matplotlib.pyplot as plt\n",
    "from sklearn.datasets import load_breast_cancer\n",
    "from sklearn.model_selection import train_test_split\n",
    "from sklearn.preprocessing import StandardScaler\n",
    "from sklearn.decomposition import PCA\n",
    "from sklearn.metrics import confusion_matrix, classification_report\n"
   ]
  },
  {
   "cell_type": "code",
   "execution_count": null,
   "id": "e5b74b16",
   "metadata": {},
   "outputs": [],
   "source": [
    "# === load data ===\n",
    "data = load_breast_cancer()\n",
    "X_full = pd.DataFrame(data.data, columns=data.feature_names)\n",
    "y_full = pd.Series(data.target, name='target')  # 0 malignant, 1 benign\n",
    "print('Shape:', X_full.shape)\n",
    "print('\\nClass distribution (0 malignant / 1 benign):')\n",
    "print(y_full.value_counts())\n",
    "\n",
    "# quick statistics\n",
    "X_full.describe().T.head()"
   ]
  },
  {
   "cell_type": "code",
   "execution_count": null,
   "id": "9c02a3a1",
   "metadata": {},
   "outputs": [],
   "source": [
    "# === train / test split ===\n",
    "X_train_raw, X_test_raw, y_train, y_test = train_test_split(\n",
    "    X_full, y_full.values, test_size=0.2, stratify=y_full, random_state=42)\n",
    "\n",
    "# === standardise ===\n",
    "scaler = StandardScaler().fit(X_train_raw)  # fit ONLY on train\n",
    "X_train = scaler.transform(X_train_raw)\n",
    "X_test  = scaler.transform(X_test_raw)"
   ]
  },
  {
   "cell_type": "code",
   "execution_count": null,
   "id": "bea57035",
   "metadata": {},
   "outputs": [],
   "source": [
    "# === 2‑D PCA for visualisation ===\n",
    "pca2 = PCA(n_components=2, random_state=42).fit(X_train)\n",
    "X_pca_full = pca2.transform(scaler.transform(X_full))\n",
    "plt.figure(figsize=(6,4))\n",
    "plt.scatter(X_pca_full[:,0], X_pca_full[:,1], c=y_full, alpha=0.5, cmap='bwr')\n",
    "plt.title('PCA projection'); plt.xlabel('PC1'); plt.ylabel('PC2'); plt.show()"
   ]
  },
  {
   "cell_type": "code",
   "execution_count": null,
   "id": "90344ccd",
   "metadata": {},
   "outputs": [],
   "source": [
    "class MyGaussianNB:\n",
    "    \"\"\"Gaussian Naïve Bayes implemented from scratch.\"\"\"\n",
    "\n",
    "    def __init__(self, var_smoothing: float = 1e-9):\n",
    "        self.var_smoothing = var_smoothing          # small value to avoid zero variance\n",
    "\n",
    "    def fit(self, X, y):\n",
    "        \"\"\"\n",
    "        Parameters\n",
    "        ----------\n",
    "        X : array-like, shape (n_samples, n_features)\n",
    "        y : array-like, shape (n_samples,)\n",
    "        \"\"\"\n",
    "        # === YOUR CODE HERE ===\n",
    "        raise NotImplementedError\n",
    "\n",
    "    def _log_gauss(self, x, mean, var):\n",
    "        # === YOUR CODE HERE ===\n",
    "        raise NotImplementedError\n",
    "\n",
    "    def _joint_log_likelihood(self, x):\n",
    "        # === YOUR CODE HERE ===\n",
    "        raise NotImplementedError\n",
    "\n",
    "    def predict(self, X):\n",
    "        # === YOUR CODE HERE ===\n",
    "        raise NotImplementedError\n",
    "\n",
    "    def predict_proba(self, X):\n",
    "        # === YOUR CODE HERE ===\n",
    "        raise NotImplementedError\n"
   ]
  },
  {
   "cell_type": "code",
   "execution_count": null,
   "id": "59c4f5d9",
   "metadata": {},
   "outputs": [],
   "source": [
    "# === train & evaluate custom GNB on FULL feature set ===\n",
    "gnb_full = MyGaussianNB().fit(X_train, y_train)\n",
    "y_pred_full = gnb_full.predict(X_test)\n",
    "print('Confusion matrix (custom GNB – full features):')\n",
    "print(confusion_matrix(y_test, y_pred_full))\n",
    "print('\\nClassification report:')\n",
    "print(classification_report(y_test, y_pred_full, digits=4))"
   ]
  },
  {
   "cell_type": "code",
   "execution_count": null,
   "id": "689aefe2",
   "metadata": {},
   "outputs": [],
   "source": [
    "# === Please use sklearn implementation for the Guassian Naive Bayes, and compare your results ===\n",
    "# === YOUR CODE HERE ==="
   ]
  },
  {
   "cell_type": "markdown",
   "id": "bb731ebb",
   "metadata": {},
   "source": []
  }
 ],
 "metadata": {
  "kernelspec": {
   "display_name": "financial",
   "language": "python",
   "name": "python3"
  },
  "language_info": {
   "codemirror_mode": {
    "name": "ipython",
    "version": 3
   },
   "file_extension": ".py",
   "mimetype": "text/x-python",
   "name": "python",
   "nbconvert_exporter": "python",
   "pygments_lexer": "ipython3",
   "version": "3.10.13"
  }
 },
 "nbformat": 4,
 "nbformat_minor": 5
}

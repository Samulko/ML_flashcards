{
 "cells": [
  {
   "cell_type": "markdown",
   "id": "e957005b",
   "metadata": {},
   "source": [
    "# Assignment 2 PCA, Evaluation, K-Mean"
   ]
  },
  {
   "cell_type": "markdown",
   "id": "639be9cf",
   "metadata": {},
   "source": [
    "Please add the name, first name, immatriculation number and study program below. Each member of the group has to be added:\n",
    "- *Name: , First Name: , matr. number: , study program:.*\n",
    "- *Name:, First Name:, matr. number:, study program:.*\n",
    "- *Name:, First Name:, matr. number:, study program:.*"
   ]
  },
  {
   "cell_type": "markdown",
   "id": "294897f6",
   "metadata": {},
   "source": [
    "In this notebook, you will explore the [Iris dataset](https://scikit-learn.org/1.5/auto_examples/datasets/plot_iris_dataset.html). It consists of 3 different types of irises’ (Setosa, Versicolour, and Virginica) petal and sepal length, stored in a 150x4 array. The objective of this exercise is to perform PCA, K-Means and evaluate the results with extrinsic metrics."
   ]
  },
  {
   "cell_type": "markdown",
   "id": "ebd6d948",
   "metadata": {},
   "source": [
    "# K-means Clustering on the Iris Dataset\n",
    "\n",
    "### Task Description\n",
    "In this task, you will implement the K-means framework on the **Iris dataset**.\n",
    "\n",
    "Follow the steps below to complete the task. Your goal is to perform clustering on the Iris dataset using K-means, visually analyze the data in 2D (using PCA), and observe how the clustering behaves as you change the number of clusters (k). Finally, you will evaluate the performance of your clustering.\n",
    "\n",
    "### Task Requirements\n",
    "1. **Load the Iris dataset** from the UCI repository. (Hint: import it with `sklearn.datasets.load_iris()`)\n",
    "2. **Use PCA (Principal Component Analysis)** to reduce the dataset to 2D, and **visualize** the data points on a 2D plot.\n",
    "3. **Determine the optimal number of clusters** (k) by visualizing the data and observing how the clusters appear in the 2D plot. (Hint: the number of each class in the dataset is similar)\n",
    "4. Implement the **K-means clustering algorithm**:\n",
    "    - **Cluster assignment**: Assign each point to the closest centroid.\n",
    "    - **Centroid computation**: Update centroids as the mean of the points assigned to them.\n",
    "5. Visualize the data points and centroids after each iteration of the K-means algorithm.\n",
    "6. (Optional) After running K-means, compare the results with the true labels and discuss the clustering outcome.\n",
    "\n",
    "### Steps to Follow\n",
    "1. Load the dataset.\n",
    "2. Apply PCA to reduce the data to 2D.\n",
    "3. Visualize the data to help you determine the optimal number of clusters (k).\n",
    "4. Run the K-means EM algorithm.\n",
    "5. Plot the clusters and centroids.\n",
    "6. Evaluate the result with one extrinsic metric. Interpret the result: How well does your clustering agree with the actual species labels?\n"
   ]
  },
  {
   "cell_type": "markdown",
   "id": "bd44a7f7",
   "metadata": {},
   "source": []
  }
 ],
 "metadata": {
  "kernelspec": {
   "display_name": "ml_exercise-ss24",
   "language": "python",
   "name": "python3"
  },
  "language_info": {
   "codemirror_mode": {
    "name": "ipython",
    "version": 3
   },
   "file_extension": ".py",
   "mimetype": "text/x-python",
   "name": "python",
   "nbconvert_exporter": "python",
   "pygments_lexer": "ipython3",
   "version": "3.11.3"
  }
 },
 "nbformat": 4,
 "nbformat_minor": 5
}
